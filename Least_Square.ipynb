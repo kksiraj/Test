{
 "cells": [
  {
   "cell_type": "markdown",
   "id": "444f6f62-3c60-4e11-9ea0-98e589d31fcb",
   "metadata": {},
   "source": [
    "$\\textbf{Least Square Fitting}$"
   ]
  },
  {
   "cell_type": "markdown",
   "id": "a243f523-cffd-46c2-a931-2c6d778e2413",
   "metadata": {},
   "source": [
    "Given data points $(x_i, y_i)$ where $i$ takes value from $0$ to $n$. This means you have $n+1$ number of $x$ data points and corresponding $y$ data points. The goal is to best fit the data into a curve. Here we will discuss the general formula to fit the data to an $m^{th} $ order polynomial.\n",
    "\n",
    "General equation for an $m^{th}$ order polynomial is $f(x)=\\sum \\limits_{l=0}^m a_l x^l$. In the least square method we are trying to minimise the error $S=\\sum \\limits_i e_i=\\sum \\limits_i \\left(y_i-\\sum \\limits_{l=0}^m a_l x_i^l\\right)^2$ with a set of coefficients $a_i$\n",
    "\n",
    "We do this by setting the derivative $\\frac{\\partial S}{\\partial a_l} =0$ for all $l$. This gives us $m+1$ equations which can be written in a matrix form below"
   ]
  },
  {
   "cell_type": "markdown",
   "id": "8f13e3b2-6917-4923-9e11-0435944b9aa7",
   "metadata": {},
   "source": [
    "$$\\begin{bmatrix}\n",
    "m & \\sum x_i & \\sum x_i^2 &  \\cdots & \\sum x_i^m\\\\\n",
    "\\sum x_i & \\sum x_i^2 & \\sum x_i^3 & \\cdots & \\sum x_i^{m+1}\\\\\n",
    "\\sum x_i^2 & \\sum x_i^3 & \\sum x_i^4 &\\cdots & \\sum x_i^{m+2}\\\\\n",
    "\\vdots & \\vdots &\\vdots &\\ddots &\\vdots \\\\\n",
    "\\sum x_i^m & \\sum x_i^{m+1} & \\sum x_i^{m+2} &\\cdots& \\sum x_i^{2m}\\\\\n",
    "\\end{bmatrix}\n",
    "\\begin{bmatrix}\n",
    "a_0\\\\\n",
    "a_1\\\\\n",
    "a_2\\\\\n",
    "\\vdots\\\\\n",
    "a_m\n",
    "\\end{bmatrix}\n",
    "=\n",
    "\\begin{bmatrix}\n",
    "\\sum y_i\\\\\n",
    "\\sum x_i y_i\\\\\n",
    "\\sum x_i^2 y_i\\\\\n",
    "\\vdots\\\\\n",
    "\\sum x_i^m y_i\n",
    "\\end{bmatrix}$$\n",
    "\n",
    "The above equation is of the form $ AC=B$. Now all we need to do is solve for $C$. This can be done using numpy linear algebra method \"solve\"."
   ]
  },
  {
   "cell_type": "code",
   "execution_count": 1,
   "id": "dfb0fe1a-d084-4111-b8ce-01fa80db0fbe",
   "metadata": {},
   "outputs": [],
   "source": [
    "import numpy as np\n",
    "import matplotlib.pyplot as plt"
   ]
  },
  {
   "cell_type": "code",
   "execution_count": 44,
   "id": "73a37517-1986-4443-bac0-1377f401798b",
   "metadata": {},
   "outputs": [
    {
     "name": "stdin",
     "output_type": "stream",
     "text": [
      " Enter Xdata  1,2,3,4,5\n",
      " Enter Ydata  2,7,13,25,41\n",
      "Order of the polynomial  2\n"
     ]
    }
   ],
   "source": [
    "x=eval(input(\" Enter Xdata \"))\n",
    "x=np.array(x)\n",
    "y=eval(input(\" Enter Ydata \"))\n",
    "y=np.array(y)\n",
    "k=int(input(\"Order of the polynomial \"))"
   ]
  },
  {
   "cell_type": "code",
   "execution_count": 45,
   "id": "a8d85f55-cbae-4689-9950-d73b80a9fe47",
   "metadata": {},
   "outputs": [],
   "source": [
    "A=np.zeros((k+1,k+1))\n",
    "B=np.zeros(k+1)\n",
    "for i in range(k+1):\n",
    "    B[i]=sum(y*x**i)\n",
    "    for j in range(k+1):\n",
    "        A[i,j]=sum(x**(i+j))"
   ]
  },
  {
   "cell_type": "code",
   "execution_count": 46,
   "id": "cbf83bb7-ce18-4b45-b295-887408d5a30c",
   "metadata": {},
   "outputs": [],
   "source": [
    "C=np.linalg.solve(A,B)"
   ]
  },
  {
   "cell_type": "code",
   "execution_count": 49,
   "id": "c333f29e-36f7-455d-a6eb-3d05a59b956e",
   "metadata": {},
   "outputs": [],
   "source": [
    "xf=np.linspace(1,5, 50)\n",
    "fx=0\n",
    "for i in range (k+1):\n",
    "    fx+=C[i]*xf**i"
   ]
  },
  {
   "cell_type": "code",
   "execution_count": 50,
   "id": "9587e2ca-7a44-4ea0-9aaa-5916f4f142bf",
   "metadata": {},
   "outputs": [
    {
     "data": {
      "text/plain": [
       "<matplotlib.collections.PathCollection at 0x1bc562f7890>"
      ]
     },
     "execution_count": 50,
     "metadata": {},
     "output_type": "execute_result"
    },
    {
     "data": {
      "image/png": "[encoded data removed]",
      "text/plain": [
       "<Figure size 640x480 with 1 Axes>"
      ]
     },
     "metadata": {},
     "output_type": "display_data"
    }
   ],
   "source": [
    "plt.plot(xf,fx)\n",
    "plt.scatter(x,y,color=\"r\")"
   ]
  },
  {
   "cell_type": "markdown",
   "id": "59d7af87-b2b8-4c99-805d-e1baf070d315",
   "metadata": {},
   "source": [
    "Modify the above code so that you can fit the given data(Choose data points yourselves appropriately) to an exponential curve.\n",
    "\n",
    "Hint\n",
    "$$y=ae^{bx}$$\n",
    "$$\\log y= \\log a+ bx$$"
   ]
  },
  {
   "cell_type": "code",
   "execution_count": null,
   "id": "96640ab3-77f6-4987-8396-c9772a4250dc",
   "metadata": {},
   "outputs": [],
   "source": []
  }
 ],
 "metadata": {
  "kernelspec": {
   "display_name": "Python 3 (ipykernel)",
   "language": "python",
   "name": "python3"
  },
  "language_info": {
   "codemirror_mode": {
    "name": "ipython",
    "version": 3
   },
   "file_extension": ".py",
   "mimetype": "text/x-python",
   "name": "python",
   "nbconvert_exporter": "python",
   "pygments_lexer": "ipython3",
   "version": "3.11.7"
  }
 },
 "nbformat": 4,
 "nbformat_minor": 5
}
