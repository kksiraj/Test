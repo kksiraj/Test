{
 "cells": [
  {
   "cell_type": "markdown",
   "id": "f4b909d5-8603-464e-8a75-c4303a0e46c6",
   "metadata": {},
   "source": [
    "$\\textbf{Numerical Solutions to Differential Equations}$"
   ]
  },
  {
   "cell_type": "markdown",
   "id": "47fc1faa-a43f-4495-b6a5-91c94150cdba",
   "metadata": {},
   "source": [
    "Numerical solutions to differential equations play a pivotal role in various scientific and engineering disciplines where analytical solutions are either difficult or impossible to obtain. Differential equations are fundamental in describing the behavior of physical systems, from the motion of celestial bodies to the flow of fluids, the behavior of electrical circuits, and beyond. However, many of these equations lack exact solutions or are too complex to solve analytically.\n",
    "\n",
    "Numerical methods provide a way to approximate the solution of differential equations by discretizing the problem domain, converting the continuous differential equation into a system of algebraic equations that can be solved using computational techniques.\n",
    "\n",
    "There are several numerical methods for solving differential equations, each with its own strengths and weaknesses. We will mostly be discussing Euler's Method and Runge-Kutta Methods. Let us look at a simple first order differential equation of the form \n",
    "$$\\frac{dy}{dx}=f(x,y)$$ with the initail condition $y(x_0)=y_0$. "
   ]
  },
  {
   "cell_type": "markdown",
   "id": "01f77b28-725f-4463-a17e-e33ee5927dd7",
   "metadata": {},
   "source": [
    "$\\textbf{Euler Method}$\n",
    "\n",
    "Euler's method is a simple numerical technique used to approximate the solution of ordinary differential equations (ODEs) by advancing the solution in small steps along the direction of the derivative. Given an initial value problem of the form:\n",
    "\n",
    "\n",
    "\n",
    "Euler's method proceeds iteratively by starting from the initial condition $ (x_0, y_0) $ and incrementing the solution at each step by an amount proportional to the derivative evaluated at the current time $ x_n $ and solution value $ y_n $. The basic Euler iteration formula is:\n",
    "\n",
    "$$\n",
    "y_{n+1} = y_n + hf(x_n, y_n)\n",
    "$$\n",
    "\n",
    "where:\n",
    "- $ x_n $ is the current $x$ value,\n",
    "- $ y_n $ is the current approximation of the solution at time $ x_n $,\n",
    "- $ h $ is the step size\n",
    "- $ f(x_n, y_n) $ is the derivative of the function $ y(x) $ with respect to time evaluated at $ x_n $ and $ y_n $.\n",
    "\n",
    "This formula essentially linearly extrapolates the solution forward from $ x_n $ to $ x_{n+1} $ based on the slope of the function $ f(x, y) $ at $ (x_n, y_n) $. The smaller the step size $ h $, the more accurate the approximation, but at the cost of increased computational effort.\n",
    "\n",
    "Euler's method is straightforward to implement and provides a first-order approximation to the solution. While it may not be as accurate as higher-order methods like the Runge-Kutta methods, it serves as a building block for understanding more advanced numerical techniques for solving differential equations.\n"
   ]
  },
  {
   "cell_type": "markdown",
   "id": "c2b3a459-18e1-42ef-843a-30cdb24aad9d",
   "metadata": {},
   "source": [
    "$\\textbf{Runge Kutta Method(RK4)}$\n",
    "\n",
    "The fourth-order Runge-Kutta (RK4) method is a numerical technique used to approximate the solution of ordinary differential equations (ODEs) by advancing the solution in small steps while considering multiple derivatives. It improves upon Euler's method by using higher-order approximations, leading to greater accuracy.\n",
    "\n",
    "Given an initial value problem of the form:\n",
    "\n",
    "$$\n",
    "\\frac{{dy}}{{dx}} = f(x, y), \\quad y(x_0) = y_0\n",
    "$$\n",
    "\n",
    "RK4 proceeds by starting from the initial condition $ (x_0, y_0) $ and approximating the solution at each step by taking a weighted average of four different slopes computed at various points within the step. The basic RK4 iteration formula is:\n",
    "\n",
    "$$\n",
    "y_{n+1} = y_n + 1/6(k_1 + 2k_2 + 2k_3 + k_4)\n",
    "$$\n",
    "\n",
    "where:\n",
    "- $ x_n $ is the current value of the independent variable,\n",
    "- $ y_n $ is the current approximation of the solution at $ x_n $,\n",
    "- $ h $ is the step size, or increment in $ x $,\n",
    "- $ f(x_n, y_n) $ is the derivative of the function $ y(x) $ with respect to $ x $ evaluated at $ (x_n, y_n) $,\n",
    "- $ k_1 $, $ k_2 $, $ k_3 $, and $ k_4 $ are intermediate slopes calculated using the function $ f(x, y) $ and the current solution value $ y_n $ at different points within the step.\n",
    "\n",
    "The equations for $ k_1 $, $ k_2 $, $ k_3 $, and $ k_4 $ are given by:\n",
    "\n",
    "$$\n",
    "k_1 = hf(x_n, y_n)\n",
    "$$\n",
    "\n",
    "$$\n",
    "k_2 = hf(x_n + \\frac{h}{2}, y_n + \\frac{h}{2}k_1)\n",
    "$$\n",
    "\n",
    "$$\n",
    "k_3 = hf(x_n + \\frac{h}{2}, y_n + \\frac{h}{2}k_2)\n",
    "$$\n",
    "\n",
    "$$\n",
    "k_4 = hf(x_n + h, y_n + hk_3)\n",
    "$$\n",
    "\n",
    "RK4 achieves fourth-order accuracy by taking a weighted sum of these slopes, resulting in a more accurate approximation compared to Euler's method. It is widely used in numerical simulations and scientific computing for solving ODEs due to its balance of accuracy and computational efficiency.\n",
    "\n",
    "While RK4 is more computationally intensive than Euler's method, it provides significantly better accuracy, making it suitable for a wide range of applications where precision is essential.\n"
   ]
  },
  {
   "cell_type": "markdown",
   "id": "70082096-131b-42ba-9467-7eed8fd80c17",
   "metadata": {},
   "source": [
    "### Euler's Method for Second-Order ODEs\n",
    "\n",
    "Euler's method can be extended to solve second-order ordinary differential equations (ODEs) by converting them into a system of first-order ODEs. Given a second-order ODE of the form:\n",
    "\n",
    "$$\n",
    "\\frac{{d^2y}}{{dx^2}} = f(x, y, \\frac{{dy}}{{dx}}), \\quad y(x_0) = y_0, \\quad \\frac{{dy}}{{dx}}(x_0) = y'_0\n",
    "$$\n",
    "\n",
    "We can introduce a new variable $ z = \\frac{{dy}}{{dx}} $, turning the second-order equation into a system of first-order equations:\n",
    "\n",
    "$$\n",
    "\\frac{{dy}}{{dx}} = z =g(x,y,z), \\quad \\frac{{dz}}{{dx}} = f(x, y, z), \\quad y(x_0) = y_0, \\quad z(x_0) = y'_0\n",
    "$$\n",
    "\n",
    "Then, we can apply Euler's method separately to each equation:\n",
    "\n",
    "$$\n",
    "y_{n+1} = y_n + h g(x_n, y_n, z_n)\n",
    "$$\n",
    "$$\n",
    "z_{n+1} = z_n + h f(x_n, y_n, z_n)\n",
    "$$\n",
    "\n",
    "### RK4 Method for Second-Order ODEs\n",
    "\n",
    "Similarly, the RK4 method can be applied to solve second-order ODEs by converting them into a system of first-order ODEs. Using the same system of equations as before, the RK4 iteration formula becomes:\n",
    "\n",
    "$$\n",
    "y_{n+1} = y_n + 1/6(k_{1} + 2k_{2} + 2k_{3} + k_{4})\n",
    "$$\n",
    "$$\n",
    "z_{n+1} = z_n + 1/6(j_{1} + 2j_{2} + 2j_{3} + j_{4})\n",
    "$$\n",
    "\n",
    "where:\n",
    "- $ k_{1} $, $ k_{2} $, $ k_{3} $, and $ k_{4} $ are intermediate slopes for the position $ y $ obtained using RK4, given by:\n",
    "  $$\n",
    "  k_{1} = hg(x_n, y_n, z_n)\n",
    "  $$\n",
    "  $$\n",
    "  k_{2} = hg(x_n + \\frac{h}{2}, y_n + \\frac{h}{2} k_{1}, z_n + \\frac{h}{2} j_{1})\n",
    "  $$\n",
    "  $$\n",
    "  k_{3} = hg(x_n + \\frac{h}{2}, y_n + \\frac{h}{2} k_{2}, z_n + \\frac{h}{2} j_{2})\n",
    "  $$\n",
    "  $$\n",
    "  k_{4} = hg(x_n + h, y_n + h k_{3}, z_n + h j_{3})\n",
    "  $$\n",
    "- $ j_{1} $, $ j_{2} $, $ j_{3} $, and $ j_{4} $ are intermediate slopes for the velocity $ z $ obtained using RK4, given by:\n",
    "  $$\n",
    "  j_{1} = hf(x_n, y_n, z_n)\n",
    "  $$\n",
    "  $$\n",
    "  j_{2} = hf(x_n + \\frac{h}{2}, y_n + \\frac{h}{2} k_{1}, z_n + \\frac{h}{2} j_{1})\n",
    "  $$\n",
    "  $$\n",
    "  j_{3} = hf(x_n + \\frac{h}{2}, y_n + \\frac{h}{2} k_{2}, z_n + \\frac{h}{2} j_{2})\n",
    "  $$\n",
    "  $$\n",
    "  j_{4} = hf(x_n + h, y_n + h k_{3}, z_n + h j_{3})\n",
    "  $$\n",
    "\n",
    "Both Euler's method and RK4 can accurately solve second-order ODEs when appropriately applied, with RK4 generally providing higher accuracy at the expense of increased computational effort.\n"
   ]
  },
  {
   "cell_type": "markdown",
   "id": "22948d39-ed5f-470e-b2ae-8f382b5f551d",
   "metadata": {},
   "source": [
    "$\\textbf{Example}$\n",
    "\n",
    "$\\textbf{First-Order ODE:}$\n",
    "$$\n",
    "\\frac{{dy}}{{dx}} = x^2 - y, \\quad y(0) = 1\n",
    "$$\n",
    "\n",
    "\n",
    "\n",
    "$\\textbf{Second-Order ODE:}$\n",
    "$$\n",
    "\\frac{{d^2y}}{{dx^2}} + 2\\frac{{dy}}{{dx}} + 2y = \\sin(x), \\quad y(0) = 0, \\quad \\frac{{dy}}{{dx}}(0) = 1\n",
    "$$\n",
    "\n",
    "\n",
    "\n",
    "We'll convert the second-order ODE into a system of two first-order ODEs:\n",
    "$$\n",
    "\\frac{{dy}}{{dx}} = z=g(x,y,z), \\quad \\frac{{dz}}{{dx}} = \\sin(x) - 2z - 2y=f(x,y,z), \\quad y(0) = 0, \\quad z(0) = 1\n",
    "$$"
   ]
  },
  {
   "cell_type": "code",
   "execution_count": 68,
   "id": "181fd6cc-66d1-4de8-8e6a-7d45630117d7",
   "metadata": {},
   "outputs": [],
   "source": [
    "import numpy as np\n",
    "import matplotlib.pyplot as plt"
   ]
  },
  {
   "cell_type": "code",
   "execution_count": 69,
   "id": "8f0870b0-b453-45c0-9323-d2730bd45c7d",
   "metadata": {},
   "outputs": [],
   "source": [
    "def f(x,y):\n",
    "    return x**2-y"
   ]
  },
  {
   "cell_type": "code",
   "execution_count": 84,
   "id": "5b398007-683e-4b69-8f65-9054df9a5905",
   "metadata": {},
   "outputs": [],
   "source": [
    "x=0\n",
    "y=1\n",
    "h=0.2"
   ]
  },
  {
   "cell_type": "code",
   "execution_count": 85,
   "id": "798e5264-976a-40a2-833e-cd860b6c47cc",
   "metadata": {},
   "outputs": [],
   "source": [
    "XU=[]\n",
    "YU=[]"
   ]
  },
  {
   "cell_type": "code",
   "execution_count": 86,
   "id": "1dbf2845-fed5-40d5-9d26-663d5ab33278",
   "metadata": {},
   "outputs": [],
   "source": [
    "while x<=5:\n",
    "    XU.append(x)\n",
    "    YU.append(y)\n",
    "    y=y+h*f(x,y)\n",
    "    x+=h"
   ]
  },
  {
   "cell_type": "markdown",
   "id": "e6b80698-0bf7-4145-ad05-009f3841e945",
   "metadata": {},
   "source": [
    "RK4 Methd"
   ]
  },
  {
   "cell_type": "code",
   "execution_count": 87,
   "id": "a1b1d656-e987-4c4a-af5f-9eb65837be49",
   "metadata": {},
   "outputs": [],
   "source": [
    "x=0\n",
    "y=1"
   ]
  },
  {
   "cell_type": "code",
   "execution_count": 88,
   "id": "b3158eec-9a01-4827-bfc3-66ed9d35c4ec",
   "metadata": {},
   "outputs": [],
   "source": [
    "XR=[]\n",
    "YR=[]"
   ]
  },
  {
   "cell_type": "code",
   "execution_count": 89,
   "id": "46c882ff-08bf-4051-82f6-7f1d9b416b63",
   "metadata": {},
   "outputs": [],
   "source": [
    "while x<=5:\n",
    "    XR.append(x)\n",
    "    YR.append(y)\n",
    "    \n",
    "    k1=h*f(x,y)\n",
    "    k2=h*f(x+h/2,y+k1/2)\n",
    "    k3=h*f(x+h/2,y+k2/2)\n",
    "    k4=h*f(x+h,y+k3)\n",
    "    \n",
    "    y=y+1/6*(k1+2*k2+2*k3+k4)\n",
    "    x+=h"
   ]
  },
  {
   "cell_type": "code",
   "execution_count": 90,
   "id": "e5ad2481-899e-43f5-8b03-1d1ab06c94cc",
   "metadata": {},
   "outputs": [
    {
     "data": {
      "text/plain": [
       "[<matplotlib.lines.Line2D at 0x2409c47d690>]"
      ]
     },
     "execution_count": 90,
     "metadata": {},
     "output_type": "execute_result"
    },
    {
     "data": {
      "image/png": "[encoded data removed]",
      "text/plain": [
       "<Figure size 640x480 with 1 Axes>"
      ]
     },
     "metadata": {},
     "output_type": "display_data"
    }
   ],
   "source": [
    "plt.plot(XU,YU,color=\"r\")\n",
    "plt.plot(XR,YR,color=\"b\")"
   ]
  },
  {
   "cell_type": "markdown",
   "id": "4070052c-1ed8-41fb-96e9-53ef594d5435",
   "metadata": {},
   "source": [
    "$\\textbf{2nd Order ODE}$"
   ]
  },
  {
   "cell_type": "code",
   "execution_count": 91,
   "id": "38f3e825-df59-4346-93fa-871139937d4b",
   "metadata": {},
   "outputs": [],
   "source": [
    "def f2(x,y,z):\n",
    "    return np.sin(x)-2*z-2*y"
   ]
  },
  {
   "cell_type": "code",
   "execution_count": 92,
   "id": "8c11269a-bffe-4bcb-9272-9e9ac06b829a",
   "metadata": {},
   "outputs": [],
   "source": [
    "def g2(x,y,z):\n",
    "    return z"
   ]
  },
  {
   "cell_type": "code",
   "execution_count": 100,
   "id": "ca066449-42f9-4754-a4bb-27800d6b38ed",
   "metadata": {},
   "outputs": [],
   "source": [
    "x=0\n",
    "y=0\n",
    "z=1\n",
    "h=0.1"
   ]
  },
  {
   "cell_type": "code",
   "execution_count": 101,
   "id": "0959265c-4c5d-4133-a485-ff144ae8dab1",
   "metadata": {},
   "outputs": [],
   "source": [
    "XU2=[]\n",
    "YU2=[]"
   ]
  },
  {
   "cell_type": "code",
   "execution_count": 102,
   "id": "6bbfb186-f3bf-4b88-a20f-1fe796c7766d",
   "metadata": {},
   "outputs": [],
   "source": [
    "while x<=5:\n",
    "    XU2.append(x)\n",
    "    YU2.append(y)\n",
    "    y=y+h*g2(x,y,z)\n",
    "    z=z+h*f2(x,y,z)\n",
    "    x+=h"
   ]
  },
  {
   "cell_type": "markdown",
   "id": "24badad7-b9b1-4980-bf48-0899ae718811",
   "metadata": {},
   "source": [
    "RK4 Method"
   ]
  },
  {
   "cell_type": "code",
   "execution_count": 103,
   "id": "037ee540-2869-484f-8409-dfc58ef21736",
   "metadata": {},
   "outputs": [],
   "source": [
    "x=0\n",
    "y=0\n",
    "z=1"
   ]
  },
  {
   "cell_type": "code",
   "execution_count": 104,
   "id": "15fa9070-a0c2-4490-bb44-454f5f000585",
   "metadata": {},
   "outputs": [],
   "source": [
    "XR2=[]\n",
    "YR2=[]"
   ]
  },
  {
   "cell_type": "code",
   "execution_count": 105,
   "id": "148475e0-03e3-4412-abe4-b9731b8f62ce",
   "metadata": {},
   "outputs": [],
   "source": [
    "while x<=5:\n",
    "    XR2.append(x)\n",
    "    YR2.append(y)\n",
    "    \n",
    "    k1=h*g2(x,y,z)\n",
    "    j1=h*f2(x,y,z)\n",
    "    \n",
    "    k2=h*g2(x+h/2,y+k1/2,z+j1/2)\n",
    "    j2=h*f2(x+h/2,y+k1/2,z+j1/2)\n",
    "\n",
    "    k3=h*g2(x+h/2,y+k2/2,z+j2/2)\n",
    "    j3=h*f2(x+h/2,y+k2/2,z+j2/2)\n",
    "    \n",
    "    k4=h*g2(x+h,y+k3,z+j3)\n",
    "    j4=h*f2(x+h,y+k3,z+j3)\n",
    "    \n",
    "    \n",
    "    y=y+1/6*(k1+2*k2+2*k3+k4)\n",
    "    z=z+1/6*(j1+2*j2+2*j3+j4)\n",
    "    x+=h\n",
    "    "
   ]
  },
  {
   "cell_type": "code",
   "execution_count": 106,
   "id": "3ecfe8aa-4f16-4eae-ae85-ece5f4ea709e",
   "metadata": {},
   "outputs": [
    {
     "data": {
      "text/plain": [
       "[<matplotlib.lines.Line2D at 0x2409c874490>]"
      ]
     },
     "execution_count": 106,
     "metadata": {},
     "output_type": "execute_result"
    },
    {
     "data": {
      "image/png": "[encoded data removed]",
      "text/plain": [
       "<Figure size 640x480 with 1 Axes>"
      ]
     },
     "metadata": {},
     "output_type": "display_data"
    }
   ],
   "source": [
    "plt.plot(XU2,YU2,color=\"r\")\n",
    "plt.plot(XR2,YR2,color=\"b\")"
   ]
  },
  {
   "cell_type": "code",
   "execution_count": null,
   "id": "afde0059-1e83-41fc-af73-5a5ba47faa56",
   "metadata": {},
   "outputs": [],
   "source": []
  }
 ],
 "metadata": {
  "kernelspec": {
   "display_name": "Python 3 (ipykernel)",
   "language": "python",
   "name": "python3"
  },
  "language_info": {
   "codemirror_mode": {
    "name": "ipython",
    "version": 3
   },
   "file_extension": ".py",
   "mimetype": "text/x-python",
   "name": "python",
   "nbconvert_exporter": "python",
   "pygments_lexer": "ipython3",
   "version": "3.11.7"
  }
 },
 "nbformat": 4,
 "nbformat_minor": 5
}
