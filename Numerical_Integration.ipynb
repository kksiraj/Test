{
 "cells": [
  {
   "cell_type": "markdown",
   "id": "b594a1a0-2240-4b08-969b-16a822bf26a8",
   "metadata": {},
   "source": [
    "$\\textbf{Numerical Integration}$\n",
    "\n",
    "Evaluate the integral $\\int_a^b v(t)dt$ \n",
    "\n",
    "We need to form a grid for x in the given range (a,b). Divide x into n equal intervals between and b with grid width h. Calculate corrensponding values of f(x) then."
   ]
  },
  {
   "cell_type": "markdown",
   "id": "fbae1f52-4b46-4b38-9ee4-09b3ad9258f8",
   "metadata": {},
   "source": [
    "$\\textbf{Trapezoidal Rule}$\n",
    "\n",
    "$It= \\frac{h}{2}\\left[f_0+f_n+2\\times\\sum \\limits_{i=1}^{n-1} f_i \\right]$\n",
    "\n",
    "where $f_0 = f(a),  f_1=f(a+h),  ... f_n=f(b)$"
   ]
  },
  {
   "cell_type": "markdown",
   "id": "9913d73a-91ed-4131-b82b-d27d6b0af76a",
   "metadata": {},
   "source": [
    "$\\textbf{Simpson's 1/3 rule}$\n",
    "\n",
    "$Is=\\frac{h}{3}\\left[f_0+f_n+4\\times\\sum \\limits_{i=1,i=odd}^{n-1} f_i+2\\times\\sum \\limits_{i=2,i=even}^{n-1} f_i\\right]$"
   ]
  },
  {
   "cell_type": "code",
   "execution_count": 16,
   "id": "5234b67b-f6d2-471e-aca0-25b0159ffe5e",
   "metadata": {},
   "outputs": [],
   "source": [
    "import numpy as np"
   ]
  },
  {
   "cell_type": "code",
   "execution_count": 49,
   "id": "079aaef0-167d-41a1-91a9-3cd863bb9af6",
   "metadata": {},
   "outputs": [],
   "source": [
    "def v(t):\n",
    "    return t**2\n"
   ]
  },
  {
   "cell_type": "code",
   "execution_count": 50,
   "id": "e75d9b1c-aba9-4bc6-8a65-a3190019b982",
   "metadata": {},
   "outputs": [],
   "source": [
    "a=1\n",
    "b=5\n",
    "t=np.linspace(a,b,101)\n",
    "h=x[1]-x[0]\n",
    "y=v(t)\n",
    "n=len(t)"
   ]
  },
  {
   "cell_type": "code",
   "execution_count": 51,
   "id": "f42b29a6-a369-48df-8f19-3657599a6752",
   "metadata": {},
   "outputs": [],
   "source": [
    "it=h/2*(y[0]+y[-1]+2*(sum(y[1:n-1])))"
   ]
  },
  {
   "cell_type": "code",
   "execution_count": 52,
   "id": "17a40c3f-15f2-4590-8b96-b161aac592ab",
   "metadata": {},
   "outputs": [],
   "source": [
    "Is=h/3*(y[0]+y[-1]+4*sum(y[1:-1:2])+2*sum(y[2:-1:2]))"
   ]
  },
  {
   "cell_type": "code",
   "execution_count": 53,
   "id": "6e8cd83c-ab24-4079-bde5-94bd6851c6aa",
   "metadata": {},
   "outputs": [
    {
     "name": "stdout",
     "output_type": "stream",
     "text": [
      "41.333\n",
      "41.334\n"
     ]
    }
   ],
   "source": [
    "print(round(Is,3))\n",
    "print(round(it,3))"
   ]
  },
  {
   "cell_type": "code",
   "execution_count": null,
   "id": "31a67c3b-34b6-40c4-853b-4d8e4fdbb4f6",
   "metadata": {},
   "outputs": [],
   "source": []
  },
  {
   "cell_type": "code",
   "execution_count": null,
   "id": "b44b11a4-d255-41bd-a07d-a1b87dc02b9b",
   "metadata": {},
   "outputs": [],
   "source": []
  }
 ],
 "metadata": {
  "kernelspec": {
   "display_name": "Python 3 (ipykernel)",
   "language": "python",
   "name": "python3"
  },
  "language_info": {
   "codemirror_mode": {
    "name": "ipython",
    "version": 3
   },
   "file_extension": ".py",
   "mimetype": "text/x-python",
   "name": "python",
   "nbconvert_exporter": "python",
   "pygments_lexer": "ipython3",
   "version": "3.11.7"
  }
 },
 "nbformat": 4,
 "nbformat_minor": 5
}
